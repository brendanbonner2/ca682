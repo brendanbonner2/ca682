{
  "nbformat": 4,
  "nbformat_minor": 0,
  "metadata": {
    "colab": {
      "name": "M1.2.8_Box_and_whisker_plots.ipynb",
      "provenance": [],
      "collapsed_sections": [],
      "include_colab_link": true
    },
    "kernelspec": {
      "name": "python3",
      "display_name": "Python 3"
    }
  },
  "cells": [
    {
      "cell_type": "markdown",
      "metadata": {
        "id": "view-in-github",
        "colab_type": "text"
      },
      "source": [
        "<a href=\"https://colab.research.google.com/github/brendanbonner2/ca682/blob/master/M1_2_8_Box_and_whisker_plots.ipynb\" target=\"_parent\"><img src=\"https://colab.research.google.com/assets/colab-badge.svg\" alt=\"Open In Colab\"/></a>"
      ]
    },
    {
      "cell_type": "markdown",
      "metadata": {
        "id": "DhAP30KRMxnf",
        "colab_type": "text"
      },
      "source": [
        "## Box and whisker plots\n",
        "\n",
        "If we get tired of looking at lists of numbers, there's always [box-and-whisker plots](http://www.regentsprep.org/regents/math/algebra/ad3/boxwhisk.html). They're the visual version of `.describe()` - they describe the minimum, Q1, median, Q3, and maximum.\n",
        "\n",
        "Well, **usually.**"
      ]
    },
    {
      "cell_type": "code",
      "metadata": {
        "id": "GYWpUcWGMxnf",
        "colab_type": "code",
        "colab": {}
      },
      "source": [
        "import pandas as pd\n",
        "df=pd.DataFrame([\n",
        "                 {'name':'Smushface', 'salary':1200},\n",
        "                 {'name':'Jen', 'salary':25000},\n",
        "                 {'name':'James', 'salary':55000},\n",
        "                 {'name':'John', 'salary':35000},\n",
        "                 {'name':'Josephine', 'salary':25000},\n",
        "                 {'name':'Jacques', 'salary':15000},\n",
        "                 {'name':'Bill Gates', 'salary':100000}])\n",
        "\n",
        "df.boxplot(column='salary', sym='o', return_type='axes')\n",
        "#df.boxplot(column='salary', sym='o', return_type='axes',whis='range')"
      ],
      "execution_count": 0,
      "outputs": []
    },
    {
      "cell_type": "markdown",
      "metadata": {
        "id": "_T-IYZhZMxnh",
        "colab_type": "text"
      },
      "source": [
        "The box part is 25%-75%, with the green line being the median. The **whiskers** are usually the maximum and minimum, but `matplotlib`/`pandas` likes to display it as \"oh this is where nice values live\" (a.k.a. IQR 1.5). We can make it do max and min by passing `whis='range'` when we make the box plot."
      ]
    }
  ]
}